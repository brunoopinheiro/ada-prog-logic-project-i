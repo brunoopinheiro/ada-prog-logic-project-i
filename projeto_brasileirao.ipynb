{
 "cells": [
  {
   "cell_type": "markdown",
   "metadata": {},
   "source": [
    "# TODO: Apresentação"
   ]
  },
  {
   "cell_type": "markdown",
   "metadata": {},
   "source": [
    "## Import de dados do JSON do campeonato\n",
    "- Cada arquivo .json do campeonato deve estar contido na pasta `./input_files`"
   ]
  },
  {
   "cell_type": "code",
   "execution_count": null,
   "metadata": {},
   "outputs": [],
   "source": [
    "import pandas as pd\n",
    "input_json = pd.read_json('./input_files/brasileirao-2019.json').to_dict()"
   ]
  },
  {
   "cell_type": "markdown",
   "metadata": {},
   "source": [
    "### Apenas verifica se o arquivo foi importado corretamente"
   ]
  },
  {
   "cell_type": "code",
   "execution_count": null,
   "metadata": {},
   "outputs": [],
   "source": [
    "(input_json)"
   ]
  },
  {
   "cell_type": "markdown",
   "metadata": {},
   "source": [
    "## Obtendo a Tabela Final do Campeonato"
   ]
  },
  {
   "cell_type": "code",
   "execution_count": 25,
   "metadata": {},
   "outputs": [
    {
     "ename": "AttributeError",
     "evalue": "'int' object has no attribute 'clubs'",
     "output_type": "error",
     "traceback": [
      "\u001b[1;31m---------------------------------------------------------------------------\u001b[0m",
      "\u001b[1;31mAttributeError\u001b[0m                            Traceback (most recent call last)",
      "Cell \u001b[1;32mIn[25], line 3\u001b[0m\n\u001b[0;32m      1\u001b[0m \u001b[38;5;28;01mfrom\u001b[39;00m \u001b[38;5;21;01mutils\u001b[39;00m \u001b[38;5;28;01mimport\u001b[39;00m championship_parser \u001b[38;5;28;01mas\u001b[39;00m cp\n\u001b[1;32m----> 3\u001b[0m tabela_brasileirao \u001b[38;5;241m=\u001b[39m \u001b[43mcp\u001b[49m\u001b[38;5;241;43m.\u001b[39;49m\u001b[43mchampionship_parser\u001b[49m\u001b[43m(\u001b[49m\u001b[43minput_json\u001b[49m\u001b[43m)\u001b[49m\n",
      "File \u001b[1;32mc:\\DEV-GIT\\STUDY\\ada-data-science\\ada-data-science-projects\\prog-logic-ii\\ada-prog-logic-project-i\\utils\\championship_parser.py:17\u001b[0m, in \u001b[0;36mchampionship_parser\u001b[1;34m(input_json)\u001b[0m\n\u001b[0;32m     15\u001b[0m partidas \u001b[38;5;241m=\u001b[39m input_json[rodada]\n\u001b[0;32m     16\u001b[0m \u001b[38;5;28;01mfor\u001b[39;00m partida \u001b[38;5;129;01min\u001b[39;00m partidas:\n\u001b[1;32m---> 17\u001b[0m     home, away \u001b[38;5;241m=\u001b[39m \u001b[43mma\u001b[49m\u001b[38;5;241;43m.\u001b[39;49m\u001b[43mmatch_analysis\u001b[49m\u001b[43m(\u001b[49m\u001b[43mpartida\u001b[49m\u001b[43m)\u001b[49m\n\u001b[0;32m     18\u001b[0m     \u001b[38;5;66;03m# Temporario\u001b[39;00m\n\u001b[0;32m     19\u001b[0m     output_table\u001b[38;5;241m.\u001b[39mappend(home)\n",
      "File \u001b[1;32mc:\\DEV-GIT\\STUDY\\ada-data-science\\ada-data-science-projects\\prog-logic-ii\\ada-prog-logic-project-i\\utils\\match_analysis.py:6\u001b[0m, in \u001b[0;36mmatch_analysis\u001b[1;34m(match)\u001b[0m\n\u001b[0;32m      1\u001b[0m \u001b[38;5;28;01mdef\u001b[39;00m \u001b[38;5;21mmatch_analysis\u001b[39m(match: \u001b[38;5;28mdict\u001b[39m):\n\u001b[0;32m      2\u001b[0m \u001b[38;5;250m    \u001b[39m\u001b[38;5;124;03m\"\"\"\u001b[39;00m\n\u001b[0;32m      3\u001b[0m \u001b[38;5;124;03m    Recebe um dict da partida.\u001b[39;00m\n\u001b[0;32m      4\u001b[0m \u001b[38;5;124;03m    Retorna uma tupla com o resultado da partida.\u001b[39;00m\n\u001b[0;32m      5\u001b[0m \u001b[38;5;124;03m    \"\"\"\u001b[39;00m\n\u001b[1;32m----> 6\u001b[0m     home_club \u001b[38;5;241m=\u001b[39m {\u001b[38;5;124m\"\u001b[39m\u001b[38;5;124mname\u001b[39m\u001b[38;5;124m\"\u001b[39m: \u001b[43mmatch\u001b[49m\u001b[38;5;241;43m.\u001b[39;49m\u001b[43mclubs\u001b[49m\u001b[38;5;241m.\u001b[39mhome}\n\u001b[0;32m      7\u001b[0m     away_club \u001b[38;5;241m=\u001b[39m {\u001b[38;5;124m\"\u001b[39m\u001b[38;5;124mname\u001b[39m\u001b[38;5;124m\"\u001b[39m: match\u001b[38;5;241m.\u001b[39mclubs\u001b[38;5;241m.\u001b[39maway}\n\u001b[0;32m      9\u001b[0m     \u001b[38;5;28;01mreturn\u001b[39;00m (home_club, away_club)\n",
      "\u001b[1;31mAttributeError\u001b[0m: 'int' object has no attribute 'clubs'"
     ]
    }
   ],
   "source": [
    "from utils import championship_parser as cp\n",
    "\n",
    "tabela_brasileirao = cp.championship_parser(input_json)"
   ]
  },
  {
   "cell_type": "code",
   "execution_count": null,
   "metadata": {},
   "outputs": [],
   "source": [
    "print(tabela_brasileirao)"
   ]
  }
 ],
 "metadata": {
  "kernelspec": {
   "display_name": ".venv",
   "language": "python",
   "name": "python3"
  },
  "language_info": {
   "codemirror_mode": {
    "name": "ipython",
    "version": 3
   },
   "file_extension": ".py",
   "mimetype": "text/x-python",
   "name": "python",
   "nbconvert_exporter": "python",
   "pygments_lexer": "ipython3",
   "version": "3.12.0"
  }
 },
 "nbformat": 4,
 "nbformat_minor": 2
}
