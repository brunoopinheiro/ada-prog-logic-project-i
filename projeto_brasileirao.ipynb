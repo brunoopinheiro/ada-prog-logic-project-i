{
 "cells": [
  {
   "cell_type": "markdown",
   "metadata": {},
   "source": [
    "## Estátistica no Futebol\n",
    "### A duração de um técnico, no futebol, influencia na posição final do campeonato?"
   ]
  },
  {
   "cell_type": "markdown",
   "metadata": {},
   "source": [
    "#### Grupo:\n",
    "_Alexandre Ohtten, Bruno Pinheiro, Luciane, Márcio Siena, Thiago, Vinicius Melo, Vivian_"
   ]
  },
  {
   "cell_type": "markdown",
   "metadata": {},
   "source": [
    "#### Descrição do problema\n",
    "\n",
    "Uma posição _volátil_, no futebol (tanto no Brasil quanto fora), é a posição de técnico. Uma prática comum é substituir o treinador após alguns resultados negativos. Naturalmente, um time que não troca o técnico não é garantia de sucesso no campeonato. Assim, surge a dúvida: será que, **em geral**, times com técnicos mais longevos ficam em uma posição melhor na tabela, no fim do campeonato?"
   ]
  },
  {
   "cell_type": "markdown",
   "metadata": {},
   "source": [
    "## Import de dados do JSON do campeonato\n",
    "- Cada arquivo .json do campeonato deve estar contido na pasta `./input_files`"
   ]
  },
  {
   "cell_type": "code",
   "execution_count": null,
   "metadata": {},
   "outputs": [],
   "source": [
    "# Indique aqui o caminho do seu arquivo de dados, e o ano do campeonato\n",
    "input_file_path = \"./input_files/brasileirao-2019.json\"\n",
    "year_championship = 2019"
   ]
  },
  {
   "cell_type": "code",
   "execution_count": null,
   "metadata": {},
   "outputs": [],
   "source": [
    "import pandas as pd\n",
    "input_json = pd.read_json(input_file_path)"
   ]
  },
  {
   "cell_type": "markdown",
   "metadata": {},
   "source": [
    "### Apenas verifica se o arquivo foi importado corretamente"
   ]
  },
  {
   "cell_type": "code",
   "execution_count": null,
   "metadata": {},
   "outputs": [],
   "source": [
    "(input_json)"
   ]
  },
  {
   "cell_type": "markdown",
   "metadata": {},
   "source": [
    "## Obtendo a Tabela Final do Campeonato"
   ]
  },
  {
   "cell_type": "code",
   "execution_count": null,
   "metadata": {},
   "outputs": [],
   "source": [
    "from utils import championship_parser as cp\n",
    "from utils import coach_handler as ch\n",
    "\n",
    "tabela_brasileirao = cp.championship_parser(input_json)"
   ]
  },
  {
   "cell_type": "code",
   "execution_count": null,
   "metadata": {},
   "outputs": [],
   "source": [
    "print(tabela_brasileirao)"
   ]
  },
  {
   "cell_type": "markdown",
   "metadata": {},
   "source": [
    "### Posição Final do Campeonato"
   ]
  },
  {
   "cell_type": "code",
   "execution_count": null,
   "metadata": {},
   "outputs": [],
   "source": [
    "# print(\"Clube - Pts - Vit - SG - GP\")\n",
    "table = [(i + 1, team[\"name\"], team[\"points\"], team[\"wins\"], team[\"goals_difference\"], team[\"goals\"]) for i, team in enumerate(tabela_brasileirao)]\n",
    "\n",
    "print(f\"-------------Tabela Brasileirão {year_championship}-------------\")\n",
    "print(\"-------------------------------------------------\")\n",
    "print(\"| Pos |      Clube      | Pts | Vit |  SG |  GP |\")\n",
    "print(\"-------------------------------------------------\")\n",
    "for row in table:\n",
    "    print(\"| {:^3} | {:^15} | {:3} | {:3} | {:3} | {:3} |\".format(*row))\n",
    "\n"
   ]
  },
  {
   "cell_type": "markdown",
   "metadata": {},
   "source": [
    "## Criando Gráficos"
   ]
  },
  {
   "cell_type": "code",
   "execution_count": null,
   "metadata": {},
   "outputs": [],
   "source": [
    "# Preparando as séries de dados\n",
    "\n",
    "clubs = [club[\"name\"] for club in tabela_brasileirao]\n",
    "scores = [club[\"points\"] for club in tabela_brasileirao]\n",
    "coaches = [ch.lasting_coach(club) for club in tabela_brasileirao]\n",
    "matches = [coach[1] for coach in coaches]\n",
    "coach = [coach[0] for coach in coaches]"
   ]
  },
  {
   "cell_type": "code",
   "execution_count": null,
   "metadata": {},
   "outputs": [],
   "source": [
    "# importando biblioteca usada para criação dos gráficos\n",
    "import matplotlib.pyplot as plt"
   ]
  },
  {
   "cell_type": "code",
   "execution_count": null,
   "metadata": {},
   "outputs": [],
   "source": [
    "# Gráfico: pontuação dos times, com quantidade de técnicos no rótudo do time.\n",
    "plt.figure(figsize=(10, 6))\n",
    "bars = plt.bar(clubs, scores)\n",
    "\n",
    "# Adicionando etiqueta de nº de tecnicos\n",
    "for bar, club in zip(bars, tabela_brasileirao):\n",
    "    plt.text(bar.get_x(), bar.get_height() + 1, f\"{len(club[\"coachs\"])} Tec.\")\n",
    "\n",
    "plt.xlabel(\"Times\")\n",
    "plt.ylabel(\"Pontos\")\n",
    "plt.title(f\"Brasileirão {year_championship} - Classificação dos Times\")\n",
    "plt.xticks(rotation=45, ha=\"right\")\n",
    "plt.tight_layout()\n",
    "\n",
    "plt.show()"
   ]
  },
  {
   "cell_type": "code",
   "execution_count": null,
   "metadata": {},
   "outputs": [],
   "source": [
    "# Gráfico: Número de rodadas do técnico por time, em ordem crescente de classificação no campeonato\n",
    "plt.figure(figsize=(10, 6))\n",
    "bars = plt.bar(clubs, matches)\n",
    "\n",
    "plt.xlabel(\"Times\")\n",
    "plt.ylabel(\"Número de Rodadas\")\n",
    "plt.title(f\"Brasileirão {year_championship} - Rodadas Técnico\")\n",
    "plt.xticks(rotation=45, ha=\"right\")\n",
    "plt.tight_layout()\n",
    "\n",
    "plt.show()"
   ]
  },
  {
   "cell_type": "code",
   "execution_count": null,
   "metadata": {},
   "outputs": [],
   "source": [
    "# Gráfico de Dispersão - Número de Rodads do Técnico mais longevo por Pontuação Total do Time\n",
    "\n",
    "plt.figure(figsize=(8, 6))\n",
    "plt.title(f\"Campeonato Brasileiro {year_championship} - Longevidade X Pontuação\")\n",
    "\n",
    "# plt.scatter(x,y)\n",
    "plt.scatter(scores, matches, scores, alpha=0.5, c=scores)\n",
    "plt.xlabel(\"Pontuação Obtida (Time)\")\n",
    "plt.ylabel(\"Rodadas no comando\")\n",
    "plt.xscale(\"linear\")\n",
    "plt.show()"
   ]
  },
  {
   "cell_type": "code",
   "execution_count": null,
   "metadata": {},
   "outputs": [],
   "source": [
    "# Gráfico de Dispersão: Pontuação total obtida pelo técnico X Número de rodadas no comando do time\n",
    "list_coachs = ch.coachs_list(tabela_brasileirao)\n",
    "x = [c[\"matches\"] for c in list_coachs]\n",
    "y = [c[\"points_obtained\"] for c in list_coachs]\n",
    "\n",
    "plt.figure(figsize=(8, 6))\n",
    "plt.title(f\"Campeonato Brasileiro {year_championship} - Pontuação X Partidas no Comando\")\n",
    "\n",
    "plt.scatter(x, y, alpha=0.5, c=y)\n",
    "plt.xlabel(\"Partidas no Comando do Time\")\n",
    "plt.ylabel(\"Pontuação Obtida no Time\")\n",
    "plt.xscale(\"linear\")\n",
    "plt.show()"
   ]
  }
 ],
 "metadata": {
  "kernelspec": {
   "display_name": ".venv",
   "language": "python",
   "name": "python3"
  },
  "language_info": {
   "codemirror_mode": {
    "name": "ipython",
    "version": 3
   },
   "file_extension": ".py",
   "mimetype": "text/x-python",
   "name": "python",
   "nbconvert_exporter": "python",
   "pygments_lexer": "ipython3",
   "version": "3.12.0"
  }
 },
 "nbformat": 4,
 "nbformat_minor": 2
}
